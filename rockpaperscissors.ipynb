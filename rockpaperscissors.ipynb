{
 "cells": [
  {
   "attachments": {},
   "cell_type": "markdown",
   "metadata": {
    "tags": []
   },
   "source": [
    "\n",
    " This is a spin on the game Rock-Paper-Scissors, called `Rock-Paper-Scissors-Lizard-Spock'. This game is programmed in python and set up for the user to play against the computer.\n",
    "\n",
    "It is a straightforward game:\n",
    "\n",
    "1. Two participants choose one among the following weapons:\n",
    "    - Rock (closed fist, in red)\n",
    "    - Paper (open hand, in yellow)\n",
    "    - Scissors (scissor with two fingers, in purple)\n",
    "    - Lizard (puppet-like hand, in green)\n",
    "    - Spock (Vulcan salutation, in blue)\n",
    "2. They show the other participant the weapon.\n",
    "    - The winning outcome is as follows:\n",
    "        + Rock: Wins against Lizard or Scissors (crushes the Lizard and breaks the Scissor)\n",
    "        + Paper: Wins against Spock or Rock (disproves Spock and wraps the Rock)\n",
    "        + Scissors: Wins against Lizard and Paper (kills the Lizard or cuts the Paper)\n",
    "        + Lizard: Wins against Spock and Paper (poisons Spock or eats the Paper)\n",
    "        + Spock: Wins against Rock and Paper (vaporizes the Rock and smashes the Scissors)\n",
    "\n",
    "![rpsls](https://upload.wikimedia.org/wikipedia/commons/a/ad/Pierre_ciseaux_feuille_l%C3%A9zard_spock_aligned.svg)\n",
    "\n"
   ]
  },
  {
   "cell_type": "code",
   "execution_count": 1,
   "metadata": {
    "tags": []
   },
   "outputs": [],
   "source": [
    "# Some needed packs\n",
    "import time\n",
    "import random\n",
    "\n",
    "# Set of choices\n",
    "actions = ['rock', 'paper', 'scissors', 'lizard', 'spock']"
   ]
  },
  {
   "attachments": {},
   "cell_type": "markdown",
   "metadata": {},
   "source": [
    "First I am creating a function called `consist` which does the following:\n",
    "\n",
    "- `help` if the user enters `help` as its argument.\n",
    "\n",
    "- `gameon` if the user enters something in the actions set.\n",
    "\n",
    "- Raise a `ValueError` if the user enters anything different than that."
   ]
  },
  {
   "cell_type": "code",
   "execution_count": 63,
   "metadata": {},
   "outputs": [],
   "source": [
    "def consist(x):\n",
    "    if x == \"help\":\n",
    "        return \"help\"\n",
    "    elif x in actions:\n",
    "        return \"gameon\"\n",
    "    else:\n",
    "        raise ValueError\n",
    "    pass"
   ]
  },
  {
   "attachments": {},
   "cell_type": "markdown",
   "metadata": {},
   "source": [
    "The `opponent` player is a function that, when called, spits out a randomly selected choice in the choice set. \n",
    "\n"
   ]
  },
  {
   "cell_type": "code",
   "execution_count": 13,
   "metadata": {},
   "outputs": [
    {
     "name": "stdout",
     "output_type": "stream",
     "text": [
      "Opponent chose: scissors\n"
     ]
    }
   ],
   "source": [
    "def opponent():\n",
    "    return random.choice(actions)\n",
    "    pass\n",
    "\n",
    "opp_choice = opponent()\n",
    "print(f\"Opponent chose: {opp_choice}\")\n"
   ]
  },
  {
   "attachments": {},
   "cell_type": "markdown",
   "metadata": {},
   "source": [
    "The function called `rock` receives a play and returns `True` if the rock beats the play and `False` if it ties or the rock loses."
   ]
  },
  {
   "cell_type": "code",
   "execution_count": 17,
   "metadata": {},
   "outputs": [],
   "source": [
    "def rock(play):\n",
    "    if play in (\"lizard\", \"scissors\"):\n",
    "        return True\n",
    "    else:\n",
    "        return False\n",
    "    \n",
    "    pass"
   ]
  },
  {
   "attachments": {},
   "cell_type": "markdown",
   "metadata": {},
   "source": [
    "The function called `scissors` receives a play and returns `True` if the scissors beats the play and `False` if it ties or the scissors loses."
   ]
  },
  {
   "cell_type": "code",
   "execution_count": 20,
   "metadata": {},
   "outputs": [],
   "source": [
    "def scissors(play):\n",
    "    if play in (\"lizard\", \"paper\"):\n",
    "        return True\n",
    "    else:\n",
    "        return False\n",
    "    \n",
    "    pass"
   ]
  },
  {
   "attachments": {},
   "cell_type": "markdown",
   "metadata": {},
   "source": [
    "The function called `paper` receives a play and returns `True` if the paper beats the play and `False` if it ties or paper loses."
   ]
  },
  {
   "cell_type": "code",
   "execution_count": 21,
   "metadata": {},
   "outputs": [],
   "source": [
    "def paper(play):\n",
    "    if play in (\"spock\", \"rock\"):\n",
    "        return True\n",
    "    else:\n",
    "        return False\n",
    "    \n",
    "    pass"
   ]
  },
  {
   "cell_type": "markdown",
   "metadata": {},
   "source": [
    "**Question 6:** Implement a function called `lizard`. It receives a play and returns `True` if the lizard beats the play and `False` if it ties or lizard loses."
   ]
  },
  {
   "cell_type": "code",
   "execution_count": 22,
   "metadata": {},
   "outputs": [],
   "source": [
    "def lizard(play):\n",
    "    if play in (\"spock\", \"paper\"):\n",
    "        return True\n",
    "    else:\n",
    "        return False\n",
    "    \n",
    "    pass"
   ]
  },
  {
   "attachments": {},
   "cell_type": "markdown",
   "metadata": {},
   "source": [
    "The function called `spock` receives a play and returns `True` if the spock beats the play and `False` if it ties or spock loses."
   ]
  },
  {
   "cell_type": "code",
   "execution_count": 23,
   "metadata": {},
   "outputs": [],
   "source": [
    "def spock(play):\n",
    "    if play in (\"rock\", \"scissors\"):\n",
    "        return True\n",
    "    else:\n",
    "        return False\n",
    "    \n",
    "    pass"
   ]
  },
  {
   "attachments": {},
   "cell_type": "markdown",
   "metadata": {},
   "source": [
    "Then I created  a dictionary called `myplays` which saves the game functions. They correspond to the names of the functions which makes game play access easier."
   ]
  },
  {
   "cell_type": "code",
   "execution_count": 24,
   "metadata": {},
   "outputs": [],
   "source": [
    "myplays = {\n",
    "    \"rock\": rock,\n",
    "    \"scissors\": scissors,\n",
    "    \"paper\": paper,\n",
    "    \"lizard\": lizard,\n",
    "    \"spock\": spock\n",
    "}"
   ]
  },
  {
   "attachments": {},
   "cell_type": "markdown",
   "metadata": {},
   "source": [
    "Thr `gameon` function evaluates a game between the player and computer. It then checks if the player won, lost, or tied with the computer."
   ]
  },
  {
   "cell_type": "code",
   "execution_count": 50,
   "metadata": {},
   "outputs": [],
   "source": [
    "def gameon(myplays, you, comp):\n",
    "    if you == comp:\n",
    "        result = \"tie\"\n",
    "    elif myplays[you](comp):\n",
    "        result = \"you\"\n",
    "    else:\n",
    "        result = \"comp\"\n",
    "    return (result, you, comp)\n",
    "    pass"
   ]
  },
  {
   "attachments": {},
   "cell_type": "markdown",
   "metadata": {},
   "source": [
    "The `hooray` function takes the winner and celebrates them. It receives the result from the `gameon` function (a tuple), and prints an according message."
   ]
  },
  {
   "cell_type": "code",
   "execution_count": 68,
   "metadata": {},
   "outputs": [
    {
     "name": "stdout",
     "output_type": "stream",
     "text": [
      "\n",
      "You choose: rock\n",
      "The computer chose: scissors\n",
      "\n",
      "Hooray, you won!\n",
      "\n"
     ]
    }
   ],
   "source": [
    "hooraytext = \"\"\"\n",
    "You choose: {0}\n",
    "The computer chose: {1}\n",
    "\n",
    "{2}\n",
    "\"\"\"\n",
    "\n",
    "def hooray(result):\n",
    "    winner, you, comp = result\n",
    "    \n",
    "    if winner == \"tie\":\n",
    "        feedback = \"It was a tie. Keep up, you got this!\"\n",
    "    elif winner == \"you\":\n",
    "        feedback = \"Hooray, you won!\"\n",
    "    elif winner == \"comp\": \n",
    "        feedback = \"Oh no, you lost... Better luck next time!\"\n",
    "    \n",
    "    print(hooraytext.format(you, comp, feedback))\n",
    "\n",
    "hooray(result)\n"
   ]
  },
  {
   "cell_type": "markdown",
   "metadata": {},
   "source": [
    "Now, let's play the game!"
   ]
  },
  {
   "cell_type": "code",
   "execution_count": null,
   "metadata": {},
   "outputs": [
    {
     "name": "stdout",
     "output_type": "stream",
     "text": [
      "Choose a weapon or stop: >> rock\n",
      "\n",
      "\n",
      "Alright. Now shout with me: ...Rock......Paper......Scissors......Lizard......Spock!\n",
      "\n",
      "\n",
      "You choose: rock\n",
      "The computer chose: rock\n",
      "\n",
      "It was a tie. Keep up, you got this!\n",
      "\n",
      "None\n",
      "Choose a weapon or stop: >> paper\n",
      "\n",
      "\n",
      "Alright. Now shout with me: ...Rock......Paper......Scissors......Lizard......Spock!\n",
      "\n",
      "\n",
      "You choose: paper\n",
      "The computer chose: spock\n",
      "\n",
      "Hooray, you won!\n",
      "\n",
      "None\n"
     ]
    }
   ],
   "source": [
    "# A prompt function for you\n",
    "def myprompt():\n",
    "    x = input(\"Choose a weapon or stop: >> \")\n",
    "    x = x.lower()\n",
    "    if x == 'stop':\n",
    "        print('\\n\\nThanks for playing. See you next time!', end = '\\n\\n')\n",
    "        return None\n",
    "    try:\n",
    "        if consist(x) == 'help':\n",
    "            myhelp()\n",
    "        else:\n",
    "            # And this is why using FP is cool:\n",
    "            print(hooray(gameon(myplays, mythrill(x), opponent())))\n",
    "    except:\n",
    "        print(\"\\nThis selection is invalid. Type 'help' to check your options or 'stop' to stop the game.\\n\")\n",
    "    myprompt()\n",
    "    \n",
    "\n",
    "# A thriller function\n",
    "def mythrill(mychoice):\n",
    "    print('\\n\\nAlright. ', end = '')\n",
    "    time.sleep(1)\n",
    "    print('Now shout with me: ', end = '')\n",
    "    time.sleep(1)\n",
    "    print('...Rock...', end = '')\n",
    "    time.sleep(0.5)\n",
    "    print('...Paper...', end = '')\n",
    "    time.sleep(0.5)\n",
    "    print('...Scissors...', end = '')\n",
    "    time.sleep(0.5)\n",
    "    print('...Lizard...', end = '')\n",
    "    time.sleep(0.5)\n",
    "    print('...Spock!', end = '\\n\\n')\n",
    "    time.sleep(1)\n",
    "    return mychoice\n",
    "\n",
    "# A help function for you\n",
    "def myhelp():\n",
    "    myhelpstr = \"\"\"\n",
    "This is my Rock-Paper-Scissors-Lizard-Spock game.\n",
    "\n",
    "You can select among the following weapons:\n",
    "\n",
    "1. Rock: It wins against Lizard or Scissors (crushes the Lizard and breaks the Scissor)\n",
    "\n",
    "2. Paper: Wins against Spock or Rock (disproves Spock and wraps the Rock)\n",
    "\n",
    "3. Scissors: Wins against Lizard and Paper (kills the Lizard or cuts the Paper)\n",
    "\n",
    "4. Lizard: Wins against Spock and Paper (poisons Spock or eats the Paper)\n",
    "\n",
    "5. Spock: Wins against Rock and Paper (vaporizes the Rock and smashes the Scissors)\n",
    "\n",
    "To choose a weapon, just type its name. No need to type in lower or upper case. The prompt is smart \n",
    "enough to choose the right action here.\n",
    "\n",
    "When you are done, you can leave the game by typing 'stop'.\n",
    "\n",
    "Game on!\n",
    "\"\"\"\n",
    "    print('\\n\\n')\n",
    "    print(myhelpstr, end = '\\n\\n')\n",
    "\n",
    "myprompt()"
   ]
  },
  {
   "cell_type": "markdown",
   "metadata": {},
   "source": [
    "**Great work!**"
   ]
  }
 ],
 "metadata": {
  "kernelspec": {
   "display_name": "Python 3",
   "language": "python",
   "name": "python3"
  },
  "language_info": {
   "codemirror_mode": {
    "name": "ipython",
    "version": 3
   },
   "file_extension": ".py",
   "mimetype": "text/x-python",
   "name": "python",
   "nbconvert_exporter": "python",
   "pygments_lexer": "ipython3",
   "version": "3.11.6 (v3.11.6:8b6ee5ba3b, Oct  2 2023, 11:18:21) [Clang 13.0.0 (clang-1300.0.29.30)]"
  },
  "varInspector": {
   "cols": {
    "lenName": 16,
    "lenType": 16,
    "lenVar": 40
   },
   "kernels_config": {
    "python": {
     "delete_cmd_postfix": "",
     "delete_cmd_prefix": "del ",
     "library": "var_list.py",
     "varRefreshCmd": "print(var_dic_list())"
    },
    "r": {
     "delete_cmd_postfix": ") ",
     "delete_cmd_prefix": "rm(",
     "library": "var_list.r",
     "varRefreshCmd": "cat(var_dic_list()) "
    }
   },
   "types_to_exclude": [
    "module",
    "function",
    "builtin_function_or_method",
    "instance",
    "_Feature"
   ],
   "window_display": false
  },
  "vscode": {
   "interpreter": {
    "hash": "aee8b7b246df8f9039afb4144a1f6fd8d2ca17a180786b69acc140d282b71a49"
   }
  }
 },
 "nbformat": 4,
 "nbformat_minor": 4
}
